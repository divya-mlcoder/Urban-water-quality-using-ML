{
 "cells": [
  {
   "cell_type": "code",
   "execution_count": 1,
   "metadata": {},
   "outputs": [],
   "source": [
    "import pandas as pd\n",
    "import matplotlib.pyplot as plt\n",
    "import numpy as np"
   ]
  },
  {
   "cell_type": "code",
   "execution_count": 2,
   "metadata": {},
   "outputs": [],
   "source": [
    "data = pd.read_csv(r\"C:\\Users\\Anjireddy\\Desktop\\water.csv\")"
   ]
  },
  {
   "cell_type": "code",
   "execution_count": 3,
   "metadata": {},
   "outputs": [
    {
     "data": {
      "text/html": [
       "<div>\n",
       "<style scoped>\n",
       "    .dataframe tbody tr th:only-of-type {\n",
       "        vertical-align: middle;\n",
       "    }\n",
       "\n",
       "    .dataframe tbody tr th {\n",
       "        vertical-align: top;\n",
       "    }\n",
       "\n",
       "    .dataframe thead th {\n",
       "        text-align: right;\n",
       "    }\n",
       "</style>\n",
       "<table border=\"1\" class=\"dataframe\">\n",
       "  <thead>\n",
       "    <tr style=\"text-align: right;\">\n",
       "      <th></th>\n",
       "      <th>year</th>\n",
       "      <th>station</th>\n",
       "      <th>do</th>\n",
       "      <th>ph</th>\n",
       "      <th>co</th>\n",
       "      <th>bod</th>\n",
       "      <th>na</th>\n",
       "      <th>tc</th>\n",
       "      <th>wqi</th>\n",
       "    </tr>\n",
       "  </thead>\n",
       "  <tbody>\n",
       "    <tr>\n",
       "      <th>0</th>\n",
       "      <td>2014</td>\n",
       "      <td>1393</td>\n",
       "      <td>6.7</td>\n",
       "      <td>7.5</td>\n",
       "      <td>203.0</td>\n",
       "      <td>1.8965</td>\n",
       "      <td>0.100</td>\n",
       "      <td>27.0</td>\n",
       "      <td>93.82</td>\n",
       "    </tr>\n",
       "    <tr>\n",
       "      <th>1</th>\n",
       "      <td>2014</td>\n",
       "      <td>1399</td>\n",
       "      <td>5.7</td>\n",
       "      <td>7.2</td>\n",
       "      <td>189.0</td>\n",
       "      <td>2.0000</td>\n",
       "      <td>0.200</td>\n",
       "      <td>8391.0</td>\n",
       "      <td>76.96</td>\n",
       "    </tr>\n",
       "    <tr>\n",
       "      <th>2</th>\n",
       "      <td>2014</td>\n",
       "      <td>1475</td>\n",
       "      <td>6.3</td>\n",
       "      <td>6.9</td>\n",
       "      <td>179.0</td>\n",
       "      <td>1.7000</td>\n",
       "      <td>0.100</td>\n",
       "      <td>5330.0</td>\n",
       "      <td>79.28</td>\n",
       "    </tr>\n",
       "    <tr>\n",
       "      <th>3</th>\n",
       "      <td>2014</td>\n",
       "      <td>3181</td>\n",
       "      <td>5.8</td>\n",
       "      <td>6.9</td>\n",
       "      <td>64.0</td>\n",
       "      <td>3.8000</td>\n",
       "      <td>0.500</td>\n",
       "      <td>8443.0</td>\n",
       "      <td>69.34</td>\n",
       "    </tr>\n",
       "    <tr>\n",
       "      <th>4</th>\n",
       "      <td>2014</td>\n",
       "      <td>3182</td>\n",
       "      <td>5.8</td>\n",
       "      <td>7.3</td>\n",
       "      <td>83.0</td>\n",
       "      <td>1.9000</td>\n",
       "      <td>0.400</td>\n",
       "      <td>5500.0</td>\n",
       "      <td>77.14</td>\n",
       "    </tr>\n",
       "    <tr>\n",
       "      <th>...</th>\n",
       "      <td>...</td>\n",
       "      <td>...</td>\n",
       "      <td>...</td>\n",
       "      <td>...</td>\n",
       "      <td>...</td>\n",
       "      <td>...</td>\n",
       "      <td>...</td>\n",
       "      <td>...</td>\n",
       "      <td>...</td>\n",
       "    </tr>\n",
       "    <tr>\n",
       "      <th>1986</th>\n",
       "      <td>2003</td>\n",
       "      <td>1330</td>\n",
       "      <td>7.9</td>\n",
       "      <td>738.0</td>\n",
       "      <td>7.2</td>\n",
       "      <td>2.7000</td>\n",
       "      <td>0.518</td>\n",
       "      <td>202.0</td>\n",
       "      <td>72.06</td>\n",
       "    </tr>\n",
       "    <tr>\n",
       "      <th>1987</th>\n",
       "      <td>2003</td>\n",
       "      <td>1450</td>\n",
       "      <td>7.5</td>\n",
       "      <td>585.0</td>\n",
       "      <td>6.3</td>\n",
       "      <td>2.6000</td>\n",
       "      <td>0.155</td>\n",
       "      <td>315.0</td>\n",
       "      <td>72.06</td>\n",
       "    </tr>\n",
       "    <tr>\n",
       "      <th>1988</th>\n",
       "      <td>2003</td>\n",
       "      <td>1403</td>\n",
       "      <td>7.6</td>\n",
       "      <td>98.0</td>\n",
       "      <td>6.2</td>\n",
       "      <td>1.2000</td>\n",
       "      <td>0.516</td>\n",
       "      <td>570.0</td>\n",
       "      <td>66.44</td>\n",
       "    </tr>\n",
       "    <tr>\n",
       "      <th>1989</th>\n",
       "      <td>2003</td>\n",
       "      <td>1404</td>\n",
       "      <td>7.7</td>\n",
       "      <td>91.0</td>\n",
       "      <td>6.5</td>\n",
       "      <td>1.3000</td>\n",
       "      <td>0.516</td>\n",
       "      <td>562.0</td>\n",
       "      <td>66.44</td>\n",
       "    </tr>\n",
       "    <tr>\n",
       "      <th>1990</th>\n",
       "      <td>2003</td>\n",
       "      <td>1726</td>\n",
       "      <td>7.6</td>\n",
       "      <td>110.0</td>\n",
       "      <td>5.7</td>\n",
       "      <td>1.1000</td>\n",
       "      <td>0.516</td>\n",
       "      <td>546.0</td>\n",
       "      <td>66.44</td>\n",
       "    </tr>\n",
       "  </tbody>\n",
       "</table>\n",
       "<p>1991 rows × 9 columns</p>\n",
       "</div>"
      ],
      "text/plain": [
       "      year  station   do     ph     co     bod     na      tc    wqi\n",
       "0     2014     1393  6.7    7.5  203.0  1.8965  0.100    27.0  93.82\n",
       "1     2014     1399  5.7    7.2  189.0  2.0000  0.200  8391.0  76.96\n",
       "2     2014     1475  6.3    6.9  179.0  1.7000  0.100  5330.0  79.28\n",
       "3     2014     3181  5.8    6.9   64.0  3.8000  0.500  8443.0  69.34\n",
       "4     2014     3182  5.8    7.3   83.0  1.9000  0.400  5500.0  77.14\n",
       "...    ...      ...  ...    ...    ...     ...    ...     ...    ...\n",
       "1986  2003     1330  7.9  738.0    7.2  2.7000  0.518   202.0  72.06\n",
       "1987  2003     1450  7.5  585.0    6.3  2.6000  0.155   315.0  72.06\n",
       "1988  2003     1403  7.6   98.0    6.2  1.2000  0.516   570.0  66.44\n",
       "1989  2003     1404  7.7   91.0    6.5  1.3000  0.516   562.0  66.44\n",
       "1990  2003     1726  7.6  110.0    5.7  1.1000  0.516   546.0  66.44\n",
       "\n",
       "[1991 rows x 9 columns]"
      ]
     },
     "execution_count": 3,
     "metadata": {},
     "output_type": "execute_result"
    }
   ],
   "source": [
    "data"
   ]
  },
  {
   "cell_type": "code",
   "execution_count": 4,
   "metadata": {},
   "outputs": [
    {
     "name": "stdout",
     "output_type": "stream",
     "text": [
      "<class 'pandas.core.frame.DataFrame'>\n",
      "RangeIndex: 1991 entries, 0 to 1990\n",
      "Data columns (total 9 columns):\n",
      " #   Column   Non-Null Count  Dtype  \n",
      "---  ------   --------------  -----  \n",
      " 0   year     1991 non-null   int64  \n",
      " 1   station  1991 non-null   int64  \n",
      " 2   do       1991 non-null   float64\n",
      " 3   ph       1991 non-null   float64\n",
      " 4   co       1991 non-null   float64\n",
      " 5   bod      1991 non-null   float64\n",
      " 6   na       1991 non-null   float64\n",
      " 7   tc       1991 non-null   float64\n",
      " 8   wqi      1991 non-null   float64\n",
      "dtypes: float64(7), int64(2)\n",
      "memory usage: 140.1 KB\n"
     ]
    }
   ],
   "source": [
    "data.info()"
   ]
  },
  {
   "cell_type": "code",
   "execution_count": 5,
   "metadata": {},
   "outputs": [
    {
     "data": {
      "text/plain": [
       "year       False\n",
       "station    False\n",
       "do         False\n",
       "ph         False\n",
       "co         False\n",
       "bod        False\n",
       "na         False\n",
       "tc         False\n",
       "wqi        False\n",
       "dtype: bool"
      ]
     },
     "execution_count": 5,
     "metadata": {},
     "output_type": "execute_result"
    }
   ],
   "source": [
    "data.isnull().any()"
   ]
  },
  {
   "cell_type": "code",
   "execution_count": 6,
   "metadata": {},
   "outputs": [],
   "source": [
    "data.drop(['station'],axis=1,inplace=True)"
   ]
  },
  {
   "cell_type": "code",
   "execution_count": 7,
   "metadata": {},
   "outputs": [
    {
     "data": {
      "text/html": [
       "<div>\n",
       "<style scoped>\n",
       "    .dataframe tbody tr th:only-of-type {\n",
       "        vertical-align: middle;\n",
       "    }\n",
       "\n",
       "    .dataframe tbody tr th {\n",
       "        vertical-align: top;\n",
       "    }\n",
       "\n",
       "    .dataframe thead th {\n",
       "        text-align: right;\n",
       "    }\n",
       "</style>\n",
       "<table border=\"1\" class=\"dataframe\">\n",
       "  <thead>\n",
       "    <tr style=\"text-align: right;\">\n",
       "      <th></th>\n",
       "      <th>year</th>\n",
       "      <th>do</th>\n",
       "      <th>ph</th>\n",
       "      <th>co</th>\n",
       "      <th>bod</th>\n",
       "      <th>na</th>\n",
       "      <th>tc</th>\n",
       "      <th>wqi</th>\n",
       "    </tr>\n",
       "  </thead>\n",
       "  <tbody>\n",
       "    <tr>\n",
       "      <th>0</th>\n",
       "      <td>2014</td>\n",
       "      <td>6.7</td>\n",
       "      <td>7.5</td>\n",
       "      <td>203.0</td>\n",
       "      <td>1.8965</td>\n",
       "      <td>0.1</td>\n",
       "      <td>27.0</td>\n",
       "      <td>93.82</td>\n",
       "    </tr>\n",
       "    <tr>\n",
       "      <th>1</th>\n",
       "      <td>2014</td>\n",
       "      <td>5.7</td>\n",
       "      <td>7.2</td>\n",
       "      <td>189.0</td>\n",
       "      <td>2.0000</td>\n",
       "      <td>0.2</td>\n",
       "      <td>8391.0</td>\n",
       "      <td>76.96</td>\n",
       "    </tr>\n",
       "    <tr>\n",
       "      <th>2</th>\n",
       "      <td>2014</td>\n",
       "      <td>6.3</td>\n",
       "      <td>6.9</td>\n",
       "      <td>179.0</td>\n",
       "      <td>1.7000</td>\n",
       "      <td>0.1</td>\n",
       "      <td>5330.0</td>\n",
       "      <td>79.28</td>\n",
       "    </tr>\n",
       "    <tr>\n",
       "      <th>3</th>\n",
       "      <td>2014</td>\n",
       "      <td>5.8</td>\n",
       "      <td>6.9</td>\n",
       "      <td>64.0</td>\n",
       "      <td>3.8000</td>\n",
       "      <td>0.5</td>\n",
       "      <td>8443.0</td>\n",
       "      <td>69.34</td>\n",
       "    </tr>\n",
       "    <tr>\n",
       "      <th>4</th>\n",
       "      <td>2014</td>\n",
       "      <td>5.8</td>\n",
       "      <td>7.3</td>\n",
       "      <td>83.0</td>\n",
       "      <td>1.9000</td>\n",
       "      <td>0.4</td>\n",
       "      <td>5500.0</td>\n",
       "      <td>77.14</td>\n",
       "    </tr>\n",
       "  </tbody>\n",
       "</table>\n",
       "</div>"
      ],
      "text/plain": [
       "   year   do   ph     co     bod   na      tc    wqi\n",
       "0  2014  6.7  7.5  203.0  1.8965  0.1    27.0  93.82\n",
       "1  2014  5.7  7.2  189.0  2.0000  0.2  8391.0  76.96\n",
       "2  2014  6.3  6.9  179.0  1.7000  0.1  5330.0  79.28\n",
       "3  2014  5.8  6.9   64.0  3.8000  0.5  8443.0  69.34\n",
       "4  2014  5.8  7.3   83.0  1.9000  0.4  5500.0  77.14"
      ]
     },
     "execution_count": 7,
     "metadata": {},
     "output_type": "execute_result"
    }
   ],
   "source": [
    "data.head()"
   ]
  },
  {
   "cell_type": "code",
   "execution_count": 8,
   "metadata": {},
   "outputs": [],
   "source": [
    "x = data.iloc[:,0:7].values\n",
    "y = data.iloc[:,7:].values"
   ]
  },
  {
   "cell_type": "code",
   "execution_count": 9,
   "metadata": {},
   "outputs": [
    {
     "data": {
      "text/plain": [
       "(1991, 7)"
      ]
     },
     "execution_count": 9,
     "metadata": {},
     "output_type": "execute_result"
    }
   ],
   "source": [
    "x.shape"
   ]
  },
  {
   "cell_type": "code",
   "execution_count": 10,
   "metadata": {},
   "outputs": [
    {
     "data": {
      "text/plain": [
       "(1991, 1)"
      ]
     },
     "execution_count": 10,
     "metadata": {},
     "output_type": "execute_result"
    }
   ],
   "source": [
    "y.shape"
   ]
  },
  {
   "cell_type": "code",
   "execution_count": 11,
   "metadata": {},
   "outputs": [
    {
     "data": {
      "text/plain": [
       "array([[2.0140e+03, 6.7000e+00, 7.5000e+00, ..., 1.8965e+00, 1.0000e-01,\n",
       "        2.7000e+01],\n",
       "       [2.0140e+03, 5.7000e+00, 7.2000e+00, ..., 2.0000e+00, 2.0000e-01,\n",
       "        8.3910e+03],\n",
       "       [2.0140e+03, 6.3000e+00, 6.9000e+00, ..., 1.7000e+00, 1.0000e-01,\n",
       "        5.3300e+03],\n",
       "       ...,\n",
       "       [2.0030e+03, 7.6000e+00, 9.8000e+01, ..., 1.2000e+00, 5.1600e-01,\n",
       "        5.7000e+02],\n",
       "       [2.0030e+03, 7.7000e+00, 9.1000e+01, ..., 1.3000e+00, 5.1600e-01,\n",
       "        5.6200e+02],\n",
       "       [2.0030e+03, 7.6000e+00, 1.1000e+02, ..., 1.1000e+00, 5.1600e-01,\n",
       "        5.4600e+02]])"
      ]
     },
     "execution_count": 11,
     "metadata": {},
     "output_type": "execute_result"
    }
   ],
   "source": [
    "x"
   ]
  },
  {
   "cell_type": "code",
   "execution_count": 12,
   "metadata": {},
   "outputs": [
    {
     "data": {
      "text/plain": [
       "array([[93.82],\n",
       "       [76.96],\n",
       "       [79.28],\n",
       "       ...,\n",
       "       [66.44],\n",
       "       [66.44],\n",
       "       [66.44]])"
      ]
     },
     "execution_count": 12,
     "metadata": {},
     "output_type": "execute_result"
    }
   ],
   "source": [
    "y"
   ]
  },
  {
   "cell_type": "code",
   "execution_count": 13,
   "metadata": {},
   "outputs": [],
   "source": [
    "from sklearn.model_selection import train_test_split\n",
    "x_train,x_test,y_train,y_test = train_test_split(x,y,test_size = 0.2,random_state = 10)"
   ]
  },
  {
   "cell_type": "code",
   "execution_count": 14,
   "metadata": {},
   "outputs": [
    {
     "data": {
      "text/plain": [
       "(1592, 7)"
      ]
     },
     "execution_count": 14,
     "metadata": {},
     "output_type": "execute_result"
    }
   ],
   "source": [
    "x_train.shape"
   ]
  },
  {
   "cell_type": "code",
   "execution_count": 15,
   "metadata": {},
   "outputs": [
    {
     "data": {
      "text/plain": [
       "(399, 7)"
      ]
     },
     "execution_count": 15,
     "metadata": {},
     "output_type": "execute_result"
    }
   ],
   "source": [
    "x_test.shape"
   ]
  },
  {
   "cell_type": "code",
   "execution_count": 16,
   "metadata": {},
   "outputs": [
    {
     "data": {
      "text/plain": [
       "(1592, 1)"
      ]
     },
     "execution_count": 16,
     "metadata": {},
     "output_type": "execute_result"
    }
   ],
   "source": [
    "y_train.shape"
   ]
  },
  {
   "cell_type": "code",
   "execution_count": 17,
   "metadata": {},
   "outputs": [
    {
     "data": {
      "text/plain": [
       "(399, 1)"
      ]
     },
     "execution_count": 17,
     "metadata": {},
     "output_type": "execute_result"
    }
   ],
   "source": [
    "y_test.shape"
   ]
  },
  {
   "cell_type": "code",
   "execution_count": 18,
   "metadata": {},
   "outputs": [
    {
     "data": {
      "text/plain": [
       "<matplotlib.axes._subplots.AxesSubplot at 0x20f77e07808>"
      ]
     },
     "execution_count": 18,
     "metadata": {},
     "output_type": "execute_result"
    },
    {
     "data": {
      "image/png": "[encoded data removed]",
      "text/plain": [
       "<Figure size 432x288 with 1 Axes>"
      ]
     },
     "metadata": {
      "needs_background": "light"
     },
     "output_type": "display_data"
    }
   ],
   "source": [
    "#data visiualization\n",
    "import seaborn as sns\n",
    "sns.boxplot(data['year'])"
   ]
  },
  {
   "cell_type": "code",
   "execution_count": 19,
   "metadata": {},
   "outputs": [
    {
     "data": {
      "text/plain": [
       "<matplotlib.axes._subplots.AxesSubplot at 0x20f78574ec8>"
      ]
     },
     "execution_count": 19,
     "metadata": {},
     "output_type": "execute_result"
    },
    {
     "data": {
      "image/png": "[encoded data removed]",
      "text/plain": [
       "<Figure size 432x288 with 1 Axes>"
      ]
     },
     "metadata": {
      "needs_background": "light"
     },
     "output_type": "display_data"
    }
   ],
   "source": [
    "sns.boxplot(data['do'])"
   ]
  },
  {
   "cell_type": "code",
   "execution_count": 20,
   "metadata": {},
   "outputs": [
    {
     "data": {
      "text/plain": [
       "<matplotlib.axes._subplots.AxesSubplot at 0x20f785e6888>"
      ]
     },
     "execution_count": 20,
     "metadata": {},
     "output_type": "execute_result"
    },
    {
     "data": {
      "image/png": "[encoded data removed]",
      "text/plain": [
       "<Figure size 432x288 with 1 Axes>"
      ]
     },
     "metadata": {
      "needs_background": "light"
     },
     "output_type": "display_data"
    }
   ],
   "source": [
    "sns.boxplot(data['ph'])"
   ]
  },
  {
   "cell_type": "code",
   "execution_count": 21,
   "metadata": {},
   "outputs": [
    {
     "data": {
      "text/plain": [
       "<matplotlib.axes._subplots.AxesSubplot at 0x20f7865e408>"
      ]
     },
     "execution_count": 21,
     "metadata": {},
     "output_type": "execute_result"
    },
    {
     "data": {
      "image/png": "[encoded data removed]",
      "text/plain": [
       "<Figure size 432x288 with 1 Axes>"
      ]
     },
     "metadata": {
      "needs_background": "light"
     },
     "output_type": "display_data"
    }
   ],
   "source": [
    "sns.boxplot(data['co'])"
   ]
  },
  {
   "cell_type": "code",
   "execution_count": 22,
   "metadata": {},
   "outputs": [
    {
     "data": {
      "text/plain": [
       "<matplotlib.axes._subplots.AxesSubplot at 0x20f7868a508>"
      ]
     },
     "execution_count": 22,
     "metadata": {},
     "output_type": "execute_result"
    },
    {
     "data": {
      "image/png": "[encoded data removed]",
      "text/plain": [
       "<Figure size 432x288 with 1 Axes>"
      ]
     },
     "metadata": {
      "needs_background": "light"
     },
     "output_type": "display_data"
    }
   ],
   "source": [
    "sns.boxplot(data['bod'])"
   ]
  },
  {
   "cell_type": "code",
   "execution_count": 23,
   "metadata": {},
   "outputs": [
    {
     "data": {
      "text/plain": [
       "<matplotlib.axes._subplots.AxesSubplot at 0x20f78734408>"
      ]
     },
     "execution_count": 23,
     "metadata": {},
     "output_type": "execute_result"
    },
    {
     "data": {
      "image/png": "[encoded data removed]",
      "text/plain": [
       "<Figure size 432x288 with 1 Axes>"
      ]
     },
     "metadata": {
      "needs_background": "light"
     },
     "output_type": "display_data"
    }
   ],
   "source": [
    "sns.boxplot(data['na'])"
   ]
  },
  {
   "cell_type": "code",
   "execution_count": 24,
   "metadata": {},
   "outputs": [
    {
     "data": {
      "text/plain": [
       "<matplotlib.axes._subplots.AxesSubplot at 0x20f7879bb88>"
      ]
     },
     "execution_count": 24,
     "metadata": {},
     "output_type": "execute_result"
    },
    {
     "data": {
      "image/png": "[encoded data removed]",
      "text/plain": [
       "<Figure size 432x288 with 1 Axes>"
      ]
     },
     "metadata": {
      "needs_background": "light"
     },
     "output_type": "display_data"
    }
   ],
   "source": [
    "sns.boxplot(data['tc'])"
   ]
  },
  {
   "cell_type": "code",
   "execution_count": 25,
   "metadata": {},
   "outputs": [
    {
     "data": {
      "text/plain": [
       "<matplotlib.axes._subplots.AxesSubplot at 0x20f787d3188>"
      ]
     },
     "execution_count": 25,
     "metadata": {},
     "output_type": "execute_result"
    },
    {
     "data": {
      "image/png": "[encoded data removed]",
      "text/plain": [
       "<Figure size 432x288 with 1 Axes>"
      ]
     },
     "metadata": {
      "needs_background": "light"
     },
     "output_type": "display_data"
    }
   ],
   "source": [
    "sns.boxplot(data['wqi'])"
   ]
  },
  {
   "cell_type": "code",
   "execution_count": 26,
   "metadata": {},
   "outputs": [
    {
     "data": {
      "text/plain": [
       "<matplotlib.axes._subplots.AxesSubplot at 0x20f78879888>"
      ]
     },
     "execution_count": 26,
     "metadata": {},
     "output_type": "execute_result"
    },
    {
     "data": {
      "image/png": "[encoded data removed]",
      "text/plain": [
       "<Figure size 432x288 with 1 Axes>"
      ]
     },
     "metadata": {
      "needs_background": "light"
     },
     "output_type": "display_data"
    }
   ],
   "source": [
    "sns.boxplot(data['year'])\n",
    "sns.boxplot(data['do'])\n",
    "sns.boxplot(data['ph'])\n",
    "sns.boxplot(data['co'])\n",
    "sns.boxplot(data['bod'])\n",
    "sns.boxplot(data['na'])\n",
    "sns.boxplot(data['tc'])\n",
    "sns.boxplot(data['wqi'])"
   ]
  },
  {
   "cell_type": "code",
   "execution_count": 49,
   "metadata": {},
   "outputs": [
    {
     "data": {
      "text/plain": [
       "<matplotlib.axes._subplots.AxesSubplot at 0x20f7d1070c8>"
      ]
     },
     "execution_count": 49,
     "metadata": {},
     "output_type": "execute_result"
    },
    {
     "data": {
      "image/png": "[encoded data removed]",
      "text/plain": [
       "<Figure size 432x288 with 1 Axes>"
      ]
     },
     "metadata": {
      "needs_background": "light"
     },
     "output_type": "display_data"
    }
   ],
   "source": [
    "sns.countplot(data['year']) \n",
    "sns.countplot(data['do'])\n",
    "sns.countplot(data['ph'])\n",
    "sns.countplot(data['co'])\n",
    "sns.countplot(data['bod'])\n",
    "sns.countplot(data['na'])\n",
    "sns.countplot(data['tc'])\n",
    "sns.countplot(data['wqi'])"
   ]
  },
  {
   "cell_type": "code",
   "execution_count": 28,
   "metadata": {},
   "outputs": [
    {
     "data": {
      "text/plain": [
       "LinearRegression(copy_X=True, fit_intercept=True, n_jobs=None, normalize=False)"
      ]
     },
     "execution_count": 28,
     "metadata": {},
     "output_type": "execute_result"
    }
   ],
   "source": [
    "#Model Building \n",
    "from sklearn.linear_model import LinearRegression\n",
    "reg = LinearRegression()\n",
    "reg.fit(x_train,y_train)"
   ]
  },
  {
   "cell_type": "code",
   "execution_count": 29,
   "metadata": {},
   "outputs": [],
   "source": [
    "y_pred = reg.predict(x_test)"
   ]
  },
  {
   "cell_type": "code",
   "execution_count": 30,
   "metadata": {},
   "outputs": [
    {
     "data": {
      "text/plain": [
       "array([[30.04],\n",
       "       [77.36],\n",
       "       [93.82],\n",
       "       [88.2 ],\n",
       "       [67.38],\n",
       "       [93.82],\n",
       "       [87.66],\n",
       "       [82.76],\n",
       "       [50.74],\n",
       "       [88.02],\n",
       "       [88.2 ],\n",
       "       [82.94],\n",
       "       [71.88],\n",
       "       [79.64],\n",
       "       [82.94],\n",
       "       [81.78],\n",
       "       [34.72],\n",
       "       [71.16],\n",
       "       [87.66],\n",
       "       [72.68],\n",
       "       [73.04],\n",
       "       [36.52],\n",
       "       [82.04],\n",
       "       [82.58],\n",
       "       [85.26],\n",
       "       [33.34],\n",
       "       [83.7 ],\n",
       "       [78.3 ],\n",
       "       [67.82],\n",
       "       [88.2 ],\n",
       "       [82.98],\n",
       "       [77.36],\n",
       "       [88.38],\n",
       "       [50.2 ],\n",
       "       [85.26],\n",
       "       [72.06],\n",
       "       [87.66],\n",
       "       [87.66],\n",
       "       [72.86],\n",
       "       [84.36],\n",
       "       [82.04],\n",
       "       [78.66],\n",
       "       [72.06],\n",
       "       [43.02],\n",
       "       [88.56],\n",
       "       [71.34],\n",
       "       [71.7 ],\n",
       "       [94.  ],\n",
       "       [66.44],\n",
       "       [44.58],\n",
       "       [71.74],\n",
       "       [93.64],\n",
       "       [55.82],\n",
       "       [82.94],\n",
       "       [76.42],\n",
       "       [88.6 ],\n",
       "       [82.04],\n",
       "       [71.16],\n",
       "       [78.66],\n",
       "       [70.8 ],\n",
       "       [83.52],\n",
       "       [60.82],\n",
       "       [88.56],\n",
       "       [44.94],\n",
       "       [55.82],\n",
       "       [87.66],\n",
       "       [79.64],\n",
       "       [88.38],\n",
       "       [66.44],\n",
       "       [82.98],\n",
       "       [93.28],\n",
       "       [93.64],\n",
       "       [83.52],\n",
       "       [87.66],\n",
       "       [72.86],\n",
       "       [88.56],\n",
       "       [82.94],\n",
       "       [90.34],\n",
       "       [82.58],\n",
       "       [82.76],\n",
       "       [83.7 ],\n",
       "       [76.34],\n",
       "       [77.76],\n",
       "       [84.36],\n",
       "       [88.56],\n",
       "       [62.7 ],\n",
       "       [61.8 ],\n",
       "       [83.7 ],\n",
       "       [94.18],\n",
       "       [88.02],\n",
       "       [76.16],\n",
       "       [79.64],\n",
       "       [66.44],\n",
       "       [85.08],\n",
       "       [55.82],\n",
       "       [44.58],\n",
       "       [82.76],\n",
       "       [44.58],\n",
       "       [79.46],\n",
       "       [82.98],\n",
       "       [85.26],\n",
       "       [77.14],\n",
       "       [66.44],\n",
       "       [73.04],\n",
       "       [82.94],\n",
       "       [40.3 ],\n",
       "       [82.04],\n",
       "       [61.44],\n",
       "       [87.66],\n",
       "       [79.64],\n",
       "       [94.18],\n",
       "       [82.94],\n",
       "       [84.36],\n",
       "       [78.3 ],\n",
       "       [66.44],\n",
       "       [78.66],\n",
       "       [88.2 ],\n",
       "       [82.94],\n",
       "       [78.08],\n",
       "       [76.96],\n",
       "       [89.5 ],\n",
       "       [82.58],\n",
       "       [83.7 ],\n",
       "       [72.06],\n",
       "       [72.14],\n",
       "       [72.68],\n",
       "       [82.98],\n",
       "       [82.58],\n",
       "       [82.4 ],\n",
       "       [66.44],\n",
       "       [67.38],\n",
       "       [55.82],\n",
       "       [72.68],\n",
       "       [66.44],\n",
       "       [88.38],\n",
       "       [72.06],\n",
       "       [82.94],\n",
       "       [93.28],\n",
       "       [68.22],\n",
       "       [93.28],\n",
       "       [73.98],\n",
       "       [78.12],\n",
       "       [55.82],\n",
       "       [82.4 ],\n",
       "       [72.14],\n",
       "       [71.7 ],\n",
       "       [93.64],\n",
       "       [94.18],\n",
       "       [78.74],\n",
       "       [82.58],\n",
       "       [88.38],\n",
       "       [82.94],\n",
       "       [88.02],\n",
       "       [76.16],\n",
       "       [50.2 ],\n",
       "       [82.04],\n",
       "       [87.66],\n",
       "       [88.38],\n",
       "       [93.28],\n",
       "       [79.64],\n",
       "       [82.94],\n",
       "       [55.82],\n",
       "       [79.64],\n",
       "       [66.44],\n",
       "       [67.06],\n",
       "       [60.82],\n",
       "       [82.76],\n",
       "       [82.76],\n",
       "       [79.64],\n",
       "       [79.64],\n",
       "       [83.7 ],\n",
       "       [82.58],\n",
       "       [82.94],\n",
       "       [88.38],\n",
       "       [67.38],\n",
       "       [82.04],\n",
       "       [88.56],\n",
       "       [88.2 ],\n",
       "       [82.94],\n",
       "       [82.4 ],\n",
       "       [78.3 ],\n",
       "       [71.16],\n",
       "       [89.32],\n",
       "       [83.7 ],\n",
       "       [93.82],\n",
       "       [67.24],\n",
       "       [67.06],\n",
       "       [67.06],\n",
       "       [77.72],\n",
       "       [50.2 ],\n",
       "       [73.04],\n",
       "       [82.58],\n",
       "       [82.58],\n",
       "       [50.2 ],\n",
       "       [82.58],\n",
       "       [94.18],\n",
       "       [88.38],\n",
       "       [72.06],\n",
       "       [82.04],\n",
       "       [55.2 ],\n",
       "       [88.2 ],\n",
       "       [60.9 ],\n",
       "       [82.98],\n",
       "       [76.34],\n",
       "       [78.3 ],\n",
       "       [72.1 ],\n",
       "       [87.66],\n",
       "       [82.76],\n",
       "       [88.38],\n",
       "       [88.02],\n",
       "       [88.02],\n",
       "       [93.28],\n",
       "       [73.84],\n",
       "       [72.06],\n",
       "       [82.94],\n",
       "       [89.14],\n",
       "       [72.1 ],\n",
       "       [66.12],\n",
       "       [78.66],\n",
       "       [60.5 ],\n",
       "       [87.66],\n",
       "       [71.74],\n",
       "       [83.52],\n",
       "       [44.94],\n",
       "       [78.84],\n",
       "       [67.38],\n",
       "       [77.36],\n",
       "       [72.14],\n",
       "       [82.04],\n",
       "       [82.76],\n",
       "       [69.88],\n",
       "       [89.32],\n",
       "       [79.46],\n",
       "       [82.76],\n",
       "       [82.76],\n",
       "       [87.66],\n",
       "       [94.  ],\n",
       "       [82.04],\n",
       "       [33.34],\n",
       "       [67.06],\n",
       "       [82.94],\n",
       "       [85.26],\n",
       "       [83.92],\n",
       "       [76.34],\n",
       "       [67.38],\n",
       "       [87.66],\n",
       "       [65.18],\n",
       "       [88.38],\n",
       "       [88.38],\n",
       "       [82.94],\n",
       "       [76.96],\n",
       "       [79.64],\n",
       "       [83.7 ],\n",
       "       [56.  ],\n",
       "       [76.78],\n",
       "       [78.3 ],\n",
       "       [94.18],\n",
       "       [71.7 ],\n",
       "       [69.34],\n",
       "       [88.56],\n",
       "       [88.2 ],\n",
       "       [37.98],\n",
       "       [67.38],\n",
       "       [71.88],\n",
       "       [82.94],\n",
       "       [73.04],\n",
       "       [82.76],\n",
       "       [61.8 ],\n",
       "       [55.82],\n",
       "       [76.42],\n",
       "       [83.38],\n",
       "       [82.94],\n",
       "       [82.58],\n",
       "       [73.62],\n",
       "       [85.08],\n",
       "       [88.2 ],\n",
       "       [84.36],\n",
       "       [79.64],\n",
       "       [82.58],\n",
       "       [70.8 ],\n",
       "       [72.14],\n",
       "       [76.34],\n",
       "       [72.06],\n",
       "       [82.94],\n",
       "       [83.7 ],\n",
       "       [82.04],\n",
       "       [77.72],\n",
       "       [75.  ],\n",
       "       [82.04],\n",
       "       [87.66],\n",
       "       [77.36],\n",
       "       [77.9 ],\n",
       "       [61.44],\n",
       "       [66.44],\n",
       "       [79.46],\n",
       "       [78.66],\n",
       "       [88.38],\n",
       "       [71.88],\n",
       "       [73.04],\n",
       "       [73.12],\n",
       "       [55.28],\n",
       "       [67.06],\n",
       "       [94.18],\n",
       "       [82.94],\n",
       "       [89.32],\n",
       "       [60.82],\n",
       "       [88.2 ],\n",
       "       [84.28],\n",
       "       [89.14],\n",
       "       [55.82],\n",
       "       [72.06],\n",
       "       [72.86],\n",
       "       [88.2 ],\n",
       "       [76.96],\n",
       "       [82.76],\n",
       "       [82.94],\n",
       "       [79.64],\n",
       "       [72.68],\n",
       "       [82.76],\n",
       "       [70.8 ],\n",
       "       [61.8 ],\n",
       "       [82.04],\n",
       "       [66.12],\n",
       "       [82.04],\n",
       "       [72.06],\n",
       "       [76.42],\n",
       "       [82.58],\n",
       "       [88.56],\n",
       "       [76.34],\n",
       "       [77.9 ],\n",
       "       [88.56],\n",
       "       [50.2 ],\n",
       "       [67.06],\n",
       "       [85.08],\n",
       "       [61.44],\n",
       "       [72.06],\n",
       "       [84.36],\n",
       "       [70.8 ],\n",
       "       [87.66],\n",
       "       [50.2 ],\n",
       "       [79.64],\n",
       "       [94.18],\n",
       "       [82.76],\n",
       "       [61.44],\n",
       "       [71.88],\n",
       "       [82.76],\n",
       "       [82.94],\n",
       "       [60.88],\n",
       "       [65.9 ],\n",
       "       [88.02],\n",
       "       [89.32],\n",
       "       [33.34],\n",
       "       [77.14],\n",
       "       [88.38],\n",
       "       [93.82],\n",
       "       [79.64],\n",
       "       [66.44],\n",
       "       [77.32],\n",
       "       [67.2 ],\n",
       "       [66.44],\n",
       "       [77.36],\n",
       "       [43.6 ],\n",
       "       [30.04],\n",
       "       [76.16],\n",
       "       [85.26],\n",
       "       [83.7 ],\n",
       "       [83.7 ],\n",
       "       [73.04],\n",
       "       [78.48],\n",
       "       [84.1 ],\n",
       "       [71.74],\n",
       "       [87.66],\n",
       "       [66.48],\n",
       "       [57.3 ],\n",
       "       [66.26],\n",
       "       [73.04],\n",
       "       [93.64],\n",
       "       [55.82],\n",
       "       [82.76],\n",
       "       [55.02],\n",
       "       [88.38],\n",
       "       [58.64],\n",
       "       [72.86],\n",
       "       [58.58],\n",
       "       [79.64],\n",
       "       [66.48],\n",
       "       [88.02],\n",
       "       [90.88],\n",
       "       [76.34],\n",
       "       [83.34],\n",
       "       [83.52],\n",
       "       [72.68],\n",
       "       [73.12],\n",
       "       [87.66],\n",
       "       [82.98],\n",
       "       [73.84],\n",
       "       [78.74],\n",
       "       [82.76],\n",
       "       [45.52]])"
      ]
     },
     "execution_count": 30,
     "metadata": {},
     "output_type": "execute_result"
    }
   ],
   "source": [
    "y_test"
   ]
  },
  {
   "cell_type": "code",
   "execution_count": 31,
   "metadata": {},
   "outputs": [
    {
     "data": {
      "text/plain": [
       "array([[ 37.05539622],\n",
       "       [ 76.02055644],\n",
       "       [ 90.7194388 ],\n",
       "       [ 78.87171722],\n",
       "       [ 77.05121599],\n",
       "       [ 99.49639534],\n",
       "       [ 82.11740185],\n",
       "       [ 77.67680701],\n",
       "       [ 35.79332524],\n",
       "       [ 90.69315825],\n",
       "       [ 83.26442633],\n",
       "       [ 86.30637985],\n",
       "       [ 84.53223656],\n",
       "       [ 84.07672735],\n",
       "       [ 80.26462539],\n",
       "       [ 77.92730861],\n",
       "       [ 44.57896106],\n",
       "       [ 76.50510888],\n",
       "       [ 81.14380701],\n",
       "       [ 75.21300651],\n",
       "       [ 83.25982372],\n",
       "       [ 31.16065212],\n",
       "       [ 77.01572568],\n",
       "       [ 81.49233197],\n",
       "       [ 81.15982727],\n",
       "       [ 47.66823881],\n",
       "       [ 73.50791828],\n",
       "       [ 74.80688283],\n",
       "       [ 83.91006114],\n",
       "       [ 80.6599679 ],\n",
       "       [ 90.88749383],\n",
       "       [ 69.95748525],\n",
       "       [ 73.53887909],\n",
       "       [ 64.63723522],\n",
       "       [ 83.20204244],\n",
       "       [ 72.61978186],\n",
       "       [ 84.13773601],\n",
       "       [ 80.7976004 ],\n",
       "       [ 77.54584153],\n",
       "       [ 83.81754323],\n",
       "       [ 81.85486654],\n",
       "       [ 79.90629644],\n",
       "       [ 81.47134041],\n",
       "       [ 40.07380839],\n",
       "       [ 87.23262987],\n",
       "       [ 87.76834085],\n",
       "       [ 57.0252571 ],\n",
       "       [ 78.46994807],\n",
       "       [ 74.94973716],\n",
       "       [ 29.58880954],\n",
       "       [ 76.03824168],\n",
       "       [102.17798063],\n",
       "       [ 66.91355193],\n",
       "       [ 82.94186755],\n",
       "       [ 75.29953964],\n",
       "       [ 80.87236479],\n",
       "       [ 83.99816555],\n",
       "       [ 81.90062541],\n",
       "       [ 82.37469074],\n",
       "       [ 88.44356596],\n",
       "       [ 82.33766578],\n",
       "       [ 70.94801383],\n",
       "       [ 89.27155037],\n",
       "       [ 58.16795641],\n",
       "       [ 66.3805045 ],\n",
       "       [ 82.42333431],\n",
       "       [ 78.52146467],\n",
       "       [ 85.25392871],\n",
       "       [ 81.95381642],\n",
       "       [ 79.12630603],\n",
       "       [ 84.98504417],\n",
       "       [ 89.97925464],\n",
       "       [ 82.16211544],\n",
       "       [ 79.7660268 ],\n",
       "       [ 82.29341264],\n",
       "       [ 82.39518523],\n",
       "       [ 81.12174445],\n",
       "       [ 83.14427829],\n",
       "       [ 85.6992855 ],\n",
       "       [ 81.87588861],\n",
       "       [ 84.77950873],\n",
       "       [ 73.28839927],\n",
       "       [ 76.94619473],\n",
       "       [ 82.28340259],\n",
       "       [ 84.34982624],\n",
       "       [ 74.28710094],\n",
       "       [ 72.84126023],\n",
       "       [ 79.90696972],\n",
       "       [ 89.63698893],\n",
       "       [ 78.13666415],\n",
       "       [ 76.91151764],\n",
       "       [ 73.04003168],\n",
       "       [ 80.0345813 ],\n",
       "       [ 72.31270609],\n",
       "       [ 67.52623645],\n",
       "       [ 53.2491226 ],\n",
       "       [ 88.42539841],\n",
       "       [ 53.40962683],\n",
       "       [ 77.78726637],\n",
       "       [ 78.42530988],\n",
       "       [ 84.32199589],\n",
       "       [ 75.7355321 ],\n",
       "       [ 76.14016378],\n",
       "       [ 82.73889196],\n",
       "       [ 85.00944967],\n",
       "       [ 62.45061996],\n",
       "       [ 83.70529917],\n",
       "       [ 72.02127857],\n",
       "       [ 77.65877582],\n",
       "       [ 89.91912504],\n",
       "       [ 85.99419102],\n",
       "       [ 82.05153232],\n",
       "       [ 87.40976238],\n",
       "       [ 73.31174336],\n",
       "       [ 77.43541643],\n",
       "       [ 82.55500505],\n",
       "       [ 82.18689983],\n",
       "       [ 67.7994994 ],\n",
       "       [ 75.0053099 ],\n",
       "       [ 63.79898108],\n",
       "       [ 76.35592237],\n",
       "       [ 85.90449828],\n",
       "       [ 85.38909358],\n",
       "       [ 76.65502708],\n",
       "       [ 75.21376698],\n",
       "       [ 75.65583467],\n",
       "       [ 81.86325061],\n",
       "       [ 68.38447651],\n",
       "       [ 80.28978536],\n",
       "       [ 74.13606968],\n",
       "       [ 77.7447637 ],\n",
       "       [ 68.46158454],\n",
       "       [ 71.36637272],\n",
       "       [ 76.09296059],\n",
       "       [ 76.64952427],\n",
       "       [ 76.05081573],\n",
       "       [ 82.28836091],\n",
       "       [ 79.41545098],\n",
       "       [ 65.13975038],\n",
       "       [ 84.83069166],\n",
       "       [ 85.58910729],\n",
       "       [ 82.49125373],\n",
       "       [ 70.23013135],\n",
       "       [ 86.23928591],\n",
       "       [ 69.91662451],\n",
       "       [ 82.20827835],\n",
       "       [ 81.23502634],\n",
       "       [ 86.69137466],\n",
       "       [ 83.3515604 ],\n",
       "       [ 84.98152541],\n",
       "       [ 84.10009072],\n",
       "       [ 81.08343281],\n",
       "       [ 78.25565723],\n",
       "       [ 82.08697847],\n",
       "       [ 57.49804691],\n",
       "       [ 85.89929793],\n",
       "       [ 77.43573277],\n",
       "       [ 84.0935567 ],\n",
       "       [ 82.8183781 ],\n",
       "       [ 84.34275943],\n",
       "       [ 83.15778071],\n",
       "       [ 66.75272008],\n",
       "       [ 85.60270463],\n",
       "       [ 75.41274987],\n",
       "       [ 73.64543492],\n",
       "       [ 66.19932338],\n",
       "       [ 80.1264717 ],\n",
       "       [ 81.38846522],\n",
       "       [ 83.24290204],\n",
       "       [ 80.4779723 ],\n",
       "       [ 84.09845835],\n",
       "       [ 83.20929389],\n",
       "       [ 76.01273988],\n",
       "       [ 83.42135938],\n",
       "       [ 83.5505718 ],\n",
       "       [ 78.35383585],\n",
       "       [ 86.1608394 ],\n",
       "       [ 79.11974861],\n",
       "       [ 84.07928926],\n",
       "       [ 85.32932123],\n",
       "       [ 74.93485204],\n",
       "       [ 81.05676179],\n",
       "       [ 83.60279306],\n",
       "       [ 78.77364789],\n",
       "       [ 96.10335629],\n",
       "       [ 70.03334022],\n",
       "       [ 69.82074552],\n",
       "       [ 59.64489676],\n",
       "       [ 84.40828968],\n",
       "       [ 64.08334531],\n",
       "       [ 80.29551852],\n",
       "       [ 75.0736999 ],\n",
       "       [ 67.8908491 ],\n",
       "       [ 68.43063821],\n",
       "       [ 82.26870062],\n",
       "       [ 88.89444198],\n",
       "       [ 84.50362862],\n",
       "       [ 78.49236442],\n",
       "       [ 78.02864522],\n",
       "       [ 81.14752987],\n",
       "       [ 79.20890455],\n",
       "       [ 54.6538108 ],\n",
       "       [ 80.02894799],\n",
       "       [ 74.44108758],\n",
       "       [ 69.63092853],\n",
       "       [ 82.50439715],\n",
       "       [ 74.52650417],\n",
       "       [ 82.96874323],\n",
       "       [ 75.55879971],\n",
       "       [ 77.8327503 ],\n",
       "       [ 76.00710454],\n",
       "       [ 89.19157046],\n",
       "       [ 74.81831599],\n",
       "       [ 80.35582631],\n",
       "       [ 81.85638306],\n",
       "       [ 82.21610518],\n",
       "       [ 72.03385352],\n",
       "       [ 74.78416755],\n",
       "       [ 80.88442333],\n",
       "       [ 55.52494044],\n",
       "       [ 75.96715528],\n",
       "       [ 65.64683293],\n",
       "       [ 84.01074563],\n",
       "       [ 56.21774251],\n",
       "       [ 74.11905015],\n",
       "       [ 78.58620023],\n",
       "       [ 70.13379095],\n",
       "       [ 76.65843785],\n",
       "       [ 80.72843118],\n",
       "       [ 82.2467849 ],\n",
       "       [ 56.61861296],\n",
       "       [ 82.30011739],\n",
       "       [ 80.30938582],\n",
       "       [ 81.9002585 ],\n",
       "       [ 77.49469315],\n",
       "       [ 78.77957729],\n",
       "       [ 87.41817193],\n",
       "       [ 76.06895064],\n",
       "       [ 56.7500834 ],\n",
       "       [ 73.3439073 ],\n",
       "       [ 82.05628153],\n",
       "       [ 79.81025411],\n",
       "       [ 78.7867942 ],\n",
       "       [ 81.351643  ],\n",
       "       [ 79.31224756],\n",
       "       [ 88.55236043],\n",
       "       [ 59.37403395],\n",
       "       [ 83.65541591],\n",
       "       [ 89.26121659],\n",
       "       [ 83.40031659],\n",
       "       [ 72.91961746],\n",
       "       [ 83.44692541],\n",
       "       [ 85.37278568],\n",
       "       [ 57.37025699],\n",
       "       [ 75.80914312],\n",
       "       [ 77.19606937],\n",
       "       [ 88.25027196],\n",
       "       [ 75.7830982 ],\n",
       "       [ 76.31523807],\n",
       "       [ 86.01494065],\n",
       "       [ 86.29439408],\n",
       "       [ 44.14833512],\n",
       "       [ 75.22730074],\n",
       "       [ 82.21307594],\n",
       "       [ 83.9278217 ],\n",
       "       [ 81.88234355],\n",
       "       [ 85.45580833],\n",
       "       [ 81.52541112],\n",
       "       [ 70.29860438],\n",
       "       [ 72.93804813],\n",
       "       [ 82.9609991 ],\n",
       "       [ 82.04369177],\n",
       "       [ 76.94399513],\n",
       "       [ 77.06359912],\n",
       "       [ 77.85040045],\n",
       "       [ 94.71166116],\n",
       "       [ 80.47032397],\n",
       "       [ 80.29781582],\n",
       "       [ 82.3841319 ],\n",
       "       [ 72.85107228],\n",
       "       [ 75.25861929],\n",
       "       [ 82.1117412 ],\n",
       "       [ 78.1018484 ],\n",
       "       [ 83.28432071],\n",
       "       [ 79.00803354],\n",
       "       [ 71.08853315],\n",
       "       [ 78.87379732],\n",
       "       [ 72.9022646 ],\n",
       "       [ 77.32524229],\n",
       "       [ 81.48367107],\n",
       "       [ 71.42126057],\n",
       "       [ 81.20214018],\n",
       "       [ 71.24790332],\n",
       "       [ 80.34068562],\n",
       "       [ 84.49846122],\n",
       "       [ 77.48798257],\n",
       "       [ 88.32311676],\n",
       "       [ 85.17654518],\n",
       "       [ 84.08357584],\n",
       "       [ 76.00469788],\n",
       "       [ 58.19453424],\n",
       "       [ 66.92293986],\n",
       "       [ 86.84060935],\n",
       "       [ 81.61937295],\n",
       "       [ 82.94868324],\n",
       "       [ 71.8048915 ],\n",
       "       [ 79.82913834],\n",
       "       [ 81.42191377],\n",
       "       [ 80.16612465],\n",
       "       [ 60.18185907],\n",
       "       [ 81.03172604],\n",
       "       [ 77.37864155],\n",
       "       [ 80.34165968],\n",
       "       [ 76.4372468 ],\n",
       "       [ 83.92510474],\n",
       "       [ 80.33619953],\n",
       "       [ 82.39161114],\n",
       "       [ 75.19793327],\n",
       "       [ 80.31996701],\n",
       "       [ 74.87117719],\n",
       "       [ 71.62854427],\n",
       "       [ 67.56918854],\n",
       "       [ 73.34769143],\n",
       "       [ 85.01856014],\n",
       "       [ 82.23681435],\n",
       "       [ 74.10871257],\n",
       "       [ 79.64144624],\n",
       "       [ 89.62274218],\n",
       "       [ 78.28107475],\n",
       "       [ 81.98655567],\n",
       "       [ 80.74294779],\n",
       "       [ 66.446728  ],\n",
       "       [ 61.81182623],\n",
       "       [ 80.0542517 ],\n",
       "       [ 73.17100617],\n",
       "       [ 76.75104791],\n",
       "       [ 81.1486657 ],\n",
       "       [ 62.52057862],\n",
       "       [ 77.7523587 ],\n",
       "       [ 61.89044292],\n",
       "       [ 84.91813294],\n",
       "       [ 87.28417781],\n",
       "       [ 81.22986402],\n",
       "       [ 63.5690901 ],\n",
       "       [ 84.53804401],\n",
       "       [ 80.85817592],\n",
       "       [ 78.00322487],\n",
       "       [ 57.53630255],\n",
       "       [ 75.76043214],\n",
       "       [ 75.84983109],\n",
       "       [ 91.29763144],\n",
       "       [ 37.83356259],\n",
       "       [ 69.08605297],\n",
       "       [ 83.00262437],\n",
       "       [ 92.05028849],\n",
       "       [ 76.54665333],\n",
       "       [ 78.27101878],\n",
       "       [ 65.3672609 ],\n",
       "       [ 83.22802971],\n",
       "       [ 76.32024813],\n",
       "       [ 70.0397195 ],\n",
       "       [ 64.07942962],\n",
       "       [ 42.77936905],\n",
       "       [ 85.70664035],\n",
       "       [ 86.81128631],\n",
       "       [ 73.65674214],\n",
       "       [ 83.04566806],\n",
       "       [ 77.11076503],\n",
       "       [ 81.66526132],\n",
       "       [ 81.60115513],\n",
       "       [ 78.97643524],\n",
       "       [ 69.10359326],\n",
       "       [ 78.25240916],\n",
       "       [ 67.40674739],\n",
       "       [ 83.19845143],\n",
       "       [ 82.95636637],\n",
       "       [ 85.04652022],\n",
       "       [ 69.01031952],\n",
       "       [ 83.36107382],\n",
       "       [ 86.55030391],\n",
       "       [ 74.31605846],\n",
       "       [ 58.29430847],\n",
       "       [ 77.63455989],\n",
       "       [ 60.19448298],\n",
       "       [ 80.11274949],\n",
       "       [ 55.90070022],\n",
       "       [ 81.19549449],\n",
       "       [ 82.87389625],\n",
       "       [ 78.70459071],\n",
       "       [ 79.8578693 ],\n",
       "       [ 80.61949202],\n",
       "       [ 74.15440418],\n",
       "       [ 64.854662  ],\n",
       "       [ 88.38419631],\n",
       "       [ 82.71047877],\n",
       "       [ 66.48410827],\n",
       "       [ 81.27303395],\n",
       "       [ 87.13970562],\n",
       "       [ 28.74767549]])"
      ]
     },
     "execution_count": 31,
     "metadata": {},
     "output_type": "execute_result"
    }
   ],
   "source": [
    "y_pred"
   ]
  },
  {
   "cell_type": "code",
   "execution_count": 32,
   "metadata": {},
   "outputs": [],
   "source": [
    "from sklearn.metrics import r2_score\n",
    "accuracy = r2_score(y_test,y_pred)"
   ]
  },
  {
   "cell_type": "code",
   "execution_count": 33,
   "metadata": {},
   "outputs": [
    {
     "data": {
      "text/plain": [
       "0.596382056554139"
      ]
     },
     "execution_count": 33,
     "metadata": {},
     "output_type": "execute_result"
    }
   ],
   "source": [
    "accuracy"
   ]
  },
  {
   "cell_type": "code",
   "execution_count": 34,
   "metadata": {},
   "outputs": [],
   "source": [
    "from sklearn.tree import DecisionTreeRegressor\n",
    "from sklearn.ensemble import RandomForestRegressor"
   ]
  },
  {
   "cell_type": "code",
   "execution_count": 35,
   "metadata": {},
   "outputs": [
    {
     "data": {
      "text/plain": [
       "DecisionTreeRegressor(ccp_alpha=0.0, criterion='mse', max_depth=None,\n",
       "                      max_features=None, max_leaf_nodes=None,\n",
       "                      min_impurity_decrease=0.0, min_impurity_split=None,\n",
       "                      min_samples_leaf=1, min_samples_split=2,\n",
       "                      min_weight_fraction_leaf=0.0, presort='deprecated',\n",
       "                      random_state=0, splitter='best')"
      ]
     },
     "execution_count": 35,
     "metadata": {},
     "output_type": "execute_result"
    }
   ],
   "source": [
    "decisiontree = DecisionTreeRegressor(random_state = 0)\n",
    "decisiontree.fit(x_train,y_train)"
   ]
  },
  {
   "cell_type": "code",
   "execution_count": 36,
   "metadata": {},
   "outputs": [
    {
     "data": {
      "text/plain": [
       "array([[2.0070e+03, 8.0000e-01, 6.8000e+00, ..., 7.4000e+00, 1.0000e+00,\n",
       "        2.0733e+04],\n",
       "       [2.0060e+03, 6.5000e+00, 8.1400e+00, ..., 5.3000e+00, 1.3970e+00,\n",
       "        2.4000e+03],\n",
       "       [2.0120e+03, 8.1000e+00, 8.0000e+00, ..., 1.8000e+00, 5.1600e-01,\n",
       "        2.6000e+01],\n",
       "       ...,\n",
       "       [2.0120e+03, 6.5000e+00, 6.9000e+00, ..., 1.8000e+00, 5.2000e-01,\n",
       "        1.4810e+03],\n",
       "       [2.0110e+03, 7.7000e+00, 7.4000e+00, ..., 1.4000e+00, 6.4000e-01,\n",
       "        1.2550e+03],\n",
       "       [2.0060e+03, 6.0000e-01, 7.3000e+00, ..., 8.7000e+01, 6.8000e+00,\n",
       "        4.6800e+02]])"
      ]
     },
     "execution_count": 36,
     "metadata": {},
     "output_type": "execute_result"
    }
   ],
   "source": [
    "x_test"
   ]
  },
  {
   "cell_type": "code",
   "execution_count": 37,
   "metadata": {},
   "outputs": [],
   "source": [
    "dpred = decisiontree.predict(x_test)"
   ]
  },
  {
   "cell_type": "code",
   "execution_count": 38,
   "metadata": {},
   "outputs": [
    {
     "data": {
      "text/plain": [
       "array([38.02, 77.36, 93.82, 88.2 , 67.38, 93.82, 87.66, 82.76, 44.58,\n",
       "       88.02, 88.2 , 82.94, 71.88, 79.64, 82.94, 81.06, 38.02, 71.16,\n",
       "       87.66, 72.68, 78.66, 47.4 , 82.04, 82.58, 85.26, 33.34, 83.7 ,\n",
       "       78.3 , 72.14, 88.2 , 82.98, 77.36, 88.38, 50.2 , 85.26, 72.06,\n",
       "       87.66, 87.66, 72.86, 84.36, 82.04, 78.66, 72.06, 47.88, 88.56,\n",
       "       71.34, 66.66, 94.  , 66.44, 38.02, 71.74, 93.64, 55.82, 82.94,\n",
       "       76.42, 88.6 , 82.04, 71.16, 78.66, 70.8 , 83.52, 60.82, 88.56,\n",
       "       44.94, 55.82, 87.66, 79.64, 88.38, 66.44, 82.98, 93.28, 93.64,\n",
       "       83.52, 87.66, 72.86, 88.56, 82.94, 90.34, 82.58, 82.76, 83.7 ,\n",
       "       76.16, 77.76, 84.36, 88.56, 62.7 , 61.8 , 83.7 , 94.18, 88.02,\n",
       "       76.16, 79.46, 66.44, 84.9 , 55.82, 44.58, 82.76, 44.58, 79.46,\n",
       "       82.98, 85.26, 77.14, 66.44, 73.04, 82.94, 43.6 , 82.04, 61.44,\n",
       "       87.66, 79.64, 94.18, 82.94, 84.36, 78.3 , 66.44, 78.66, 88.2 ,\n",
       "       82.76, 78.08, 77.14, 89.32, 82.58, 83.7 , 72.06, 72.86, 72.68,\n",
       "       82.98, 87.66, 82.4 , 66.44, 67.38, 55.82, 72.68, 66.44, 88.38,\n",
       "       72.06, 82.94, 93.28, 64.92, 93.28, 78.66, 81.06, 55.82, 82.4 ,\n",
       "       72.86, 71.52, 93.64, 94.18, 78.74, 82.58, 88.38, 82.94, 88.02,\n",
       "       76.16, 50.2 , 82.04, 87.66, 88.38, 93.28, 79.64, 82.94, 67.06,\n",
       "       79.64, 66.44, 67.06, 60.82, 82.76, 82.76, 79.64, 79.64, 83.7 ,\n",
       "       82.58, 82.76, 88.38, 67.38, 82.04, 88.56, 88.2 , 82.94, 82.4 ,\n",
       "       78.3 , 71.52, 89.32, 83.7 , 93.64, 67.24, 67.06, 67.06, 77.9 ,\n",
       "       50.2 , 73.04, 82.4 , 82.58, 50.2 , 82.58, 94.18, 88.38, 72.06,\n",
       "       82.04, 55.2 , 88.2 , 67.24, 82.98, 75.44, 78.3 , 72.1 , 87.66,\n",
       "       82.76, 88.38, 88.02, 88.02, 93.28, 73.84, 72.06, 82.94, 89.14,\n",
       "       72.1 , 66.48, 78.66, 55.82, 87.66, 76.96, 83.52, 45.12, 78.84,\n",
       "       72.06, 77.36, 72.14, 82.04, 82.76, 69.88, 89.32, 79.46, 82.76,\n",
       "       82.76, 87.66, 94.  , 82.04, 44.58, 67.06, 82.94, 85.26, 83.92,\n",
       "       76.34, 72.06, 87.66, 67.5 , 88.38, 88.38, 82.94, 76.96, 79.64,\n",
       "       83.7 , 61.44, 76.78, 78.3 , 94.18, 71.7 , 74.02, 88.56, 88.2 ,\n",
       "       38.34, 67.38, 71.88, 82.94, 73.04, 82.76, 67.42, 55.82, 67.5 ,\n",
       "       87.22, 82.94, 82.58, 68.4 , 85.08, 88.2 , 84.36, 79.64, 82.58,\n",
       "       55.02, 72.14, 76.34, 72.06, 82.94, 83.7 , 82.04, 77.9 , 75.  ,\n",
       "       82.04, 87.66, 77.36, 77.9 , 55.82, 66.44, 79.46, 83.92, 88.38,\n",
       "       72.06, 73.04, 73.12, 61.44, 67.06, 94.18, 82.94, 89.32, 60.82,\n",
       "       88.2 , 84.28, 89.14, 61.44, 72.06, 72.86, 88.2 , 76.96, 82.76,\n",
       "       82.94, 79.64, 72.68, 82.76, 70.8 , 61.8 , 87.66, 66.12, 82.04,\n",
       "       72.06, 76.42, 82.58, 88.56, 76.34, 77.9 , 88.56, 50.2 , 67.06,\n",
       "       85.08, 61.44, 72.06, 84.72, 67.5 , 87.66, 50.74, 79.64, 94.18,\n",
       "       82.76, 56.76, 71.88, 82.76, 82.94, 55.82, 65.9 , 88.02, 89.14,\n",
       "       33.34, 77.14, 88.38, 93.82, 79.64, 66.26, 68.4 , 67.2 , 66.44,\n",
       "       71.74, 43.6 , 33.34, 76.16, 85.26, 83.7 , 83.7 , 72.86, 78.48,\n",
       "       84.28, 71.74, 87.66, 66.48, 61.44, 66.26, 73.04, 93.28, 55.82,\n",
       "       82.76, 61.62, 88.2 , 53.02, 78.48, 62.42, 79.64, 66.66, 88.02,\n",
       "       90.88, 76.34, 83.34, 83.52, 73.04, 87.66, 87.66, 82.98, 73.12,\n",
       "       78.74, 82.76, 44.58])"
      ]
     },
     "execution_count": 38,
     "metadata": {},
     "output_type": "execute_result"
    }
   ],
   "source": [
    "dpred"
   ]
  },
  {
   "cell_type": "code",
   "execution_count": 39,
   "metadata": {},
   "outputs": [
    {
     "data": {
      "text/plain": [
       "array([[30.04],\n",
       "       [77.36],\n",
       "       [93.82],\n",
       "       [88.2 ],\n",
       "       [67.38],\n",
       "       [93.82],\n",
       "       [87.66],\n",
       "       [82.76],\n",
       "       [50.74],\n",
       "       [88.02],\n",
       "       [88.2 ],\n",
       "       [82.94],\n",
       "       [71.88],\n",
       "       [79.64],\n",
       "       [82.94],\n",
       "       [81.78],\n",
       "       [34.72],\n",
       "       [71.16],\n",
       "       [87.66],\n",
       "       [72.68],\n",
       "       [73.04],\n",
       "       [36.52],\n",
       "       [82.04],\n",
       "       [82.58],\n",
       "       [85.26],\n",
       "       [33.34],\n",
       "       [83.7 ],\n",
       "       [78.3 ],\n",
       "       [67.82],\n",
       "       [88.2 ],\n",
       "       [82.98],\n",
       "       [77.36],\n",
       "       [88.38],\n",
       "       [50.2 ],\n",
       "       [85.26],\n",
       "       [72.06],\n",
       "       [87.66],\n",
       "       [87.66],\n",
       "       [72.86],\n",
       "       [84.36],\n",
       "       [82.04],\n",
       "       [78.66],\n",
       "       [72.06],\n",
       "       [43.02],\n",
       "       [88.56],\n",
       "       [71.34],\n",
       "       [71.7 ],\n",
       "       [94.  ],\n",
       "       [66.44],\n",
       "       [44.58],\n",
       "       [71.74],\n",
       "       [93.64],\n",
       "       [55.82],\n",
       "       [82.94],\n",
       "       [76.42],\n",
       "       [88.6 ],\n",
       "       [82.04],\n",
       "       [71.16],\n",
       "       [78.66],\n",
       "       [70.8 ],\n",
       "       [83.52],\n",
       "       [60.82],\n",
       "       [88.56],\n",
       "       [44.94],\n",
       "       [55.82],\n",
       "       [87.66],\n",
       "       [79.64],\n",
       "       [88.38],\n",
       "       [66.44],\n",
       "       [82.98],\n",
       "       [93.28],\n",
       "       [93.64],\n",
       "       [83.52],\n",
       "       [87.66],\n",
       "       [72.86],\n",
       "       [88.56],\n",
       "       [82.94],\n",
       "       [90.34],\n",
       "       [82.58],\n",
       "       [82.76],\n",
       "       [83.7 ],\n",
       "       [76.34],\n",
       "       [77.76],\n",
       "       [84.36],\n",
       "       [88.56],\n",
       "       [62.7 ],\n",
       "       [61.8 ],\n",
       "       [83.7 ],\n",
       "       [94.18],\n",
       "       [88.02],\n",
       "       [76.16],\n",
       "       [79.64],\n",
       "       [66.44],\n",
       "       [85.08],\n",
       "       [55.82],\n",
       "       [44.58],\n",
       "       [82.76],\n",
       "       [44.58],\n",
       "       [79.46],\n",
       "       [82.98],\n",
       "       [85.26],\n",
       "       [77.14],\n",
       "       [66.44],\n",
       "       [73.04],\n",
       "       [82.94],\n",
       "       [40.3 ],\n",
       "       [82.04],\n",
       "       [61.44],\n",
       "       [87.66],\n",
       "       [79.64],\n",
       "       [94.18],\n",
       "       [82.94],\n",
       "       [84.36],\n",
       "       [78.3 ],\n",
       "       [66.44],\n",
       "       [78.66],\n",
       "       [88.2 ],\n",
       "       [82.94],\n",
       "       [78.08],\n",
       "       [76.96],\n",
       "       [89.5 ],\n",
       "       [82.58],\n",
       "       [83.7 ],\n",
       "       [72.06],\n",
       "       [72.14],\n",
       "       [72.68],\n",
       "       [82.98],\n",
       "       [82.58],\n",
       "       [82.4 ],\n",
       "       [66.44],\n",
       "       [67.38],\n",
       "       [55.82],\n",
       "       [72.68],\n",
       "       [66.44],\n",
       "       [88.38],\n",
       "       [72.06],\n",
       "       [82.94],\n",
       "       [93.28],\n",
       "       [68.22],\n",
       "       [93.28],\n",
       "       [73.98],\n",
       "       [78.12],\n",
       "       [55.82],\n",
       "       [82.4 ],\n",
       "       [72.14],\n",
       "       [71.7 ],\n",
       "       [93.64],\n",
       "       [94.18],\n",
       "       [78.74],\n",
       "       [82.58],\n",
       "       [88.38],\n",
       "       [82.94],\n",
       "       [88.02],\n",
       "       [76.16],\n",
       "       [50.2 ],\n",
       "       [82.04],\n",
       "       [87.66],\n",
       "       [88.38],\n",
       "       [93.28],\n",
       "       [79.64],\n",
       "       [82.94],\n",
       "       [55.82],\n",
       "       [79.64],\n",
       "       [66.44],\n",
       "       [67.06],\n",
       "       [60.82],\n",
       "       [82.76],\n",
       "       [82.76],\n",
       "       [79.64],\n",
       "       [79.64],\n",
       "       [83.7 ],\n",
       "       [82.58],\n",
       "       [82.94],\n",
       "       [88.38],\n",
       "       [67.38],\n",
       "       [82.04],\n",
       "       [88.56],\n",
       "       [88.2 ],\n",
       "       [82.94],\n",
       "       [82.4 ],\n",
       "       [78.3 ],\n",
       "       [71.16],\n",
       "       [89.32],\n",
       "       [83.7 ],\n",
       "       [93.82],\n",
       "       [67.24],\n",
       "       [67.06],\n",
       "       [67.06],\n",
       "       [77.72],\n",
       "       [50.2 ],\n",
       "       [73.04],\n",
       "       [82.58],\n",
       "       [82.58],\n",
       "       [50.2 ],\n",
       "       [82.58],\n",
       "       [94.18],\n",
       "       [88.38],\n",
       "       [72.06],\n",
       "       [82.04],\n",
       "       [55.2 ],\n",
       "       [88.2 ],\n",
       "       [60.9 ],\n",
       "       [82.98],\n",
       "       [76.34],\n",
       "       [78.3 ],\n",
       "       [72.1 ],\n",
       "       [87.66],\n",
       "       [82.76],\n",
       "       [88.38],\n",
       "       [88.02],\n",
       "       [88.02],\n",
       "       [93.28],\n",
       "       [73.84],\n",
       "       [72.06],\n",
       "       [82.94],\n",
       "       [89.14],\n",
       "       [72.1 ],\n",
       "       [66.12],\n",
       "       [78.66],\n",
       "       [60.5 ],\n",
       "       [87.66],\n",
       "       [71.74],\n",
       "       [83.52],\n",
       "       [44.94],\n",
       "       [78.84],\n",
       "       [67.38],\n",
       "       [77.36],\n",
       "       [72.14],\n",
       "       [82.04],\n",
       "       [82.76],\n",
       "       [69.88],\n",
       "       [89.32],\n",
       "       [79.46],\n",
       "       [82.76],\n",
       "       [82.76],\n",
       "       [87.66],\n",
       "       [94.  ],\n",
       "       [82.04],\n",
       "       [33.34],\n",
       "       [67.06],\n",
       "       [82.94],\n",
       "       [85.26],\n",
       "       [83.92],\n",
       "       [76.34],\n",
       "       [67.38],\n",
       "       [87.66],\n",
       "       [65.18],\n",
       "       [88.38],\n",
       "       [88.38],\n",
       "       [82.94],\n",
       "       [76.96],\n",
       "       [79.64],\n",
       "       [83.7 ],\n",
       "       [56.  ],\n",
       "       [76.78],\n",
       "       [78.3 ],\n",
       "       [94.18],\n",
       "       [71.7 ],\n",
       "       [69.34],\n",
       "       [88.56],\n",
       "       [88.2 ],\n",
       "       [37.98],\n",
       "       [67.38],\n",
       "       [71.88],\n",
       "       [82.94],\n",
       "       [73.04],\n",
       "       [82.76],\n",
       "       [61.8 ],\n",
       "       [55.82],\n",
       "       [76.42],\n",
       "       [83.38],\n",
       "       [82.94],\n",
       "       [82.58],\n",
       "       [73.62],\n",
       "       [85.08],\n",
       "       [88.2 ],\n",
       "       [84.36],\n",
       "       [79.64],\n",
       "       [82.58],\n",
       "       [70.8 ],\n",
       "       [72.14],\n",
       "       [76.34],\n",
       "       [72.06],\n",
       "       [82.94],\n",
       "       [83.7 ],\n",
       "       [82.04],\n",
       "       [77.72],\n",
       "       [75.  ],\n",
       "       [82.04],\n",
       "       [87.66],\n",
       "       [77.36],\n",
       "       [77.9 ],\n",
       "       [61.44],\n",
       "       [66.44],\n",
       "       [79.46],\n",
       "       [78.66],\n",
       "       [88.38],\n",
       "       [71.88],\n",
       "       [73.04],\n",
       "       [73.12],\n",
       "       [55.28],\n",
       "       [67.06],\n",
       "       [94.18],\n",
       "       [82.94],\n",
       "       [89.32],\n",
       "       [60.82],\n",
       "       [88.2 ],\n",
       "       [84.28],\n",
       "       [89.14],\n",
       "       [55.82],\n",
       "       [72.06],\n",
       "       [72.86],\n",
       "       [88.2 ],\n",
       "       [76.96],\n",
       "       [82.76],\n",
       "       [82.94],\n",
       "       [79.64],\n",
       "       [72.68],\n",
       "       [82.76],\n",
       "       [70.8 ],\n",
       "       [61.8 ],\n",
       "       [82.04],\n",
       "       [66.12],\n",
       "       [82.04],\n",
       "       [72.06],\n",
       "       [76.42],\n",
       "       [82.58],\n",
       "       [88.56],\n",
       "       [76.34],\n",
       "       [77.9 ],\n",
       "       [88.56],\n",
       "       [50.2 ],\n",
       "       [67.06],\n",
       "       [85.08],\n",
       "       [61.44],\n",
       "       [72.06],\n",
       "       [84.36],\n",
       "       [70.8 ],\n",
       "       [87.66],\n",
       "       [50.2 ],\n",
       "       [79.64],\n",
       "       [94.18],\n",
       "       [82.76],\n",
       "       [61.44],\n",
       "       [71.88],\n",
       "       [82.76],\n",
       "       [82.94],\n",
       "       [60.88],\n",
       "       [65.9 ],\n",
       "       [88.02],\n",
       "       [89.32],\n",
       "       [33.34],\n",
       "       [77.14],\n",
       "       [88.38],\n",
       "       [93.82],\n",
       "       [79.64],\n",
       "       [66.44],\n",
       "       [77.32],\n",
       "       [67.2 ],\n",
       "       [66.44],\n",
       "       [77.36],\n",
       "       [43.6 ],\n",
       "       [30.04],\n",
       "       [76.16],\n",
       "       [85.26],\n",
       "       [83.7 ],\n",
       "       [83.7 ],\n",
       "       [73.04],\n",
       "       [78.48],\n",
       "       [84.1 ],\n",
       "       [71.74],\n",
       "       [87.66],\n",
       "       [66.48],\n",
       "       [57.3 ],\n",
       "       [66.26],\n",
       "       [73.04],\n",
       "       [93.64],\n",
       "       [55.82],\n",
       "       [82.76],\n",
       "       [55.02],\n",
       "       [88.38],\n",
       "       [58.64],\n",
       "       [72.86],\n",
       "       [58.58],\n",
       "       [79.64],\n",
       "       [66.48],\n",
       "       [88.02],\n",
       "       [90.88],\n",
       "       [76.34],\n",
       "       [83.34],\n",
       "       [83.52],\n",
       "       [72.68],\n",
       "       [73.12],\n",
       "       [87.66],\n",
       "       [82.98],\n",
       "       [73.84],\n",
       "       [78.74],\n",
       "       [82.76],\n",
       "       [45.52]])"
      ]
     },
     "execution_count": 39,
     "metadata": {},
     "output_type": "execute_result"
    }
   ],
   "source": [
    "y_test"
   ]
  },
  {
   "cell_type": "code",
   "execution_count": 40,
   "metadata": {},
   "outputs": [],
   "source": [
    "daccuracy= r2_score(y_test,dpred)"
   ]
  },
  {
   "cell_type": "code",
   "execution_count": 41,
   "metadata": {},
   "outputs": [
    {
     "data": {
      "text/plain": [
       "0.9687334601356549"
      ]
     },
     "execution_count": 41,
     "metadata": {},
     "output_type": "execute_result"
    }
   ],
   "source": [
    "daccuracy"
   ]
  },
  {
   "cell_type": "code",
   "execution_count": 50,
   "metadata": {},
   "outputs": [],
   "source": [
    "rp = decisiontree.predict([[2014,6.7,7.5,203,1.8965,0.1,27\n",
    "]])"
   ]
  },
  {
   "cell_type": "code",
   "execution_count": 51,
   "metadata": {},
   "outputs": [
    {
     "data": {
      "text/plain": [
       "array([93.82])"
      ]
     },
     "execution_count": 51,
     "metadata": {},
     "output_type": "execute_result"
    }
   ],
   "source": [
    "rp"
   ]
  },
  {
   "cell_type": "code",
   "execution_count": 44,
   "metadata": {},
   "outputs": [
    {
     "name": "stderr",
     "output_type": "stream",
     "text": [
      "C:\\Users\\Anjireddy\\Anaconda3\\lib\\site-packages\\ipykernel_launcher.py:3: DataConversionWarning: A column-vector y was passed when a 1d array was expected. Please change the shape of y to (n_samples,), for example using ravel().\n",
      "  This is separate from the ipykernel package so we can avoid doing imports until\n"
     ]
    },
    {
     "data": {
      "text/plain": [
       "array([32.934, 75.488, 93.82 , 88.2  , 66.912, 93.82 , 87.66 , 82.724,\n",
       "       48.514, 88.02 , 88.2  , 82.94 , 71.88 , 79.64 , 82.94 , 81.168,\n",
       "       32.742, 71.43 , 87.66 , 72.436, 78.66 , 60.312, 82.04 , 82.58 ,\n",
       "       85.242, 33.34 , 83.682, 78.3  , 70.918, 88.2  , 82.98 , 75.45 ,\n",
       "       88.38 , 55.82 , 85.242, 72.06 , 87.66 , 87.66 , 72.86 , 83.308,\n",
       "       82.04 , 80.238, 72.06 , 42.634, 88.56 , 71.358, 71.576, 92.554,\n",
       "       66.422, 33.998, 67.528, 92.044, 55.82 , 82.94 , 76.42 , 86.76 ,\n",
       "       82.04 , 71.358, 78.66 , 70.8  , 83.52 , 61.768, 88.56 , 44.958,\n",
       "       55.82 , 87.66 , 79.64 , 88.38 , 66.44 , 82.98 , 92.986, 93.64 ,\n",
       "       83.52 , 87.66 , 72.86 , 88.47 , 82.94 , 88.788, 82.58 , 82.76 ,\n",
       "       83.7  , 77.224, 77.636, 83.138, 88.47 , 64.572, 63.392, 83.7  ,\n",
       "       94.18 , 86.424, 76.214, 78.544, 66.44 , 85.814, 56.85 , 45.424,\n",
       "       82.76 , 47.11 , 78.684, 83.016, 85.134, 77.14 , 66.44 , 73.04 ,\n",
       "       82.94 , 42.61 , 82.04 , 60.878, 87.66 , 79.64 , 94.18 , 82.94 ,\n",
       "       84.432, 75.64 , 66.44 , 78.606, 88.2  , 83.25 , 78.08 , 77.36 ,\n",
       "       88.182, 81.256, 83.7  , 72.06 , 75.284, 72.624, 83.016, 83.704,\n",
       "       82.4  , 66.44 , 65.32 , 55.82 , 72.006, 66.44 , 88.38 , 72.06 ,\n",
       "       82.94 , 93.28 , 64.866, 93.28 , 78.058, 81.222, 55.82 , 82.4  ,\n",
       "       75.284, 71.61 , 93.604, 94.18 , 78.74 , 82.58 , 88.38 , 82.94 ,\n",
       "       88.02 , 76.16 , 51.886, 82.04 , 86.372, 88.38 , 93.28 , 79.64 ,\n",
       "       82.94 , 56.562, 79.64 , 66.44 , 67.06 , 59.588, 82.76 , 82.76 ,\n",
       "       79.64 , 79.64 , 83.7  , 82.58 , 82.616, 88.38 , 69.466, 82.04 ,\n",
       "       88.56 , 88.2  , 82.94 , 82.4  , 78.244, 71.106, 89.32 , 83.7  ,\n",
       "       93.712, 67.318, 60.316, 57.408, 77.684, 50.2  , 73.04 , 82.562,\n",
       "       82.58 , 50.2  , 82.58 , 94.18 , 88.38 , 71.592, 81.06 , 61.04 ,\n",
       "       88.2  , 66.122, 82.98 , 78.986, 77.914, 72.658, 87.66 , 82.76 ,\n",
       "       88.362, 88.02 , 87.93 , 93.28 , 73.768, 72.06 , 81.58 , 88.84 ,\n",
       "       71.632, 67.322, 78.642, 56.988, 87.66 , 73.168, 83.52 , 44.162,\n",
       "       78.84 , 72.06 , 77.318, 72.392, 82.04 , 82.76 , 74.934, 89.11 ,\n",
       "       79.478, 82.76 , 82.198, 87.66 , 94.   , 82.04 , 48.568, 67.06 ,\n",
       "       82.94 , 84.644, 81.58 , 76.34 , 71.592, 87.66 , 64.424, 88.38 ,\n",
       "       88.38 , 82.94 , 77.086, 79.64 , 84.15 , 54.022, 76.6  , 78.3  ,\n",
       "       94.18 , 71.772, 73.27 , 88.56 , 88.2  , 41.196, 69.724, 71.88 ,\n",
       "       82.94 , 73.04 , 82.76 , 68.062, 56.944, 71.502, 82.02 , 82.904,\n",
       "       82.58 , 77.016, 83.612, 88.2  , 84.432, 79.64 , 82.58 , 69.222,\n",
       "       72.32 , 76.34 , 72.06 , 82.94 , 83.7  , 82.04 , 77.738, 74.67 ,\n",
       "       82.04 , 87.66 , 76.464, 77.9  , 56.382, 66.44 , 79.442, 80.13 ,\n",
       "       88.38 , 72.06 , 72.272, 74.878, 62.892, 66.498, 94.18 , 82.94 ,\n",
       "       89.212, 61.166, 88.2  , 82.584, 89.536, 55.072, 70.656, 72.824,\n",
       "       88.2  , 76.27 , 82.76 , 82.94 , 79.64 , 72.68 , 81.418, 70.332,\n",
       "       67.566, 82.862, 66.728, 82.04 , 72.06 , 76.42 , 81.496, 88.524,\n",
       "       76.34 , 77.9  , 88.56 , 50.2  , 60.924, 84.12 , 61.44 , 72.06 ,\n",
       "       84.036, 66.806, 87.66 , 49.756, 79.64 , 94.18 , 82.76 , 60.316,\n",
       "       71.88 , 82.76 , 82.94 , 58.912, 68.648, 88.02 , 90.166, 34.5  ,\n",
       "       78.228, 88.38 , 93.82 , 75.68 , 66.08 , 72.746, 67.798, 66.44 ,\n",
       "       77.81 , 44.394, 33.32 , 76.16 , 84.684, 83.7  , 83.7  , 77.25 ,\n",
       "       78.372, 83.128, 73.7  , 88.838, 66.782, 58.32 , 66.278, 72.38 ,\n",
       "       93.316, 55.82 , 82.76 , 62.316, 88.456, 58.306, 78.48 , 59.216,\n",
       "       79.64 , 66.336, 86.424, 90.124, 76.34 , 83.358, 83.466, 74.736,\n",
       "       80.688, 87.66 , 82.98 , 73.134, 78.74 , 82.76 , 47.158])"
      ]
     },
     "execution_count": 44,
     "metadata": {},
     "output_type": "execute_result"
    }
   ],
   "source": [
    "from sklearn.ensemble import RandomForestRegressor\n",
    "randomforest = RandomForestRegressor(n_estimators = 10 ,random_state = 0)\n",
    "randomforest.fit(x_train,y_train)\n",
    "y_pred=randomforest.predict(x_test)\n",
    "y_pred"
   ]
  },
  {
   "cell_type": "code",
   "execution_count": 45,
   "metadata": {},
   "outputs": [
    {
     "data": {
      "text/plain": [
       "0.9685644078502934"
      ]
     },
     "execution_count": 45,
     "metadata": {},
     "output_type": "execute_result"
    }
   ],
   "source": [
    "from sklearn.metrics import r2_score\n",
    "r2_score(y_test,y_pred)"
   ]
  },
  {
   "cell_type": "code",
   "execution_count": 52,
   "metadata": {},
   "outputs": [],
   "source": [
    "ps = randomforest.predict([[2014,6.7,7.5,203,1.8965,0.1,27\n",
    "]])"
   ]
  },
  {
   "cell_type": "code",
   "execution_count": 53,
   "metadata": {},
   "outputs": [
    {
     "data": {
      "text/plain": [
       "array([93.82])"
      ]
     },
     "execution_count": 53,
     "metadata": {},
     "output_type": "execute_result"
    }
   ],
   "source": [
    "ps"
   ]
  },
  {
   "cell_type": "code",
   "execution_count": 48,
   "metadata": {},
   "outputs": [],
   "source": [
    "import pickle\n",
    "pickle.dump(daccuracy,open('wqi.pkl','wb'))\n",
    "model = pickle.load(open('wqi.pkl','rb'))"
   ]
  },
  {
   "cell_type": "code",
   "execution_count": null,
   "metadata": {},
   "outputs": [],
   "source": []
  }
 ],
 "metadata": {
  "kernelspec": {
   "display_name": "Python 3",
   "language": "python",
   "name": "python3"
  },
  "language_info": {
   "codemirror_mode": {
    "name": "ipython",
    "version": 3
   },
   "file_extension": ".py",
   "mimetype": "text/x-python",
   "name": "python",
   "nbconvert_exporter": "python",
   "pygments_lexer": "ipython3",
   "version": "3.7.6"
  }
 },
 "nbformat": 4,
 "nbformat_minor": 4
}
